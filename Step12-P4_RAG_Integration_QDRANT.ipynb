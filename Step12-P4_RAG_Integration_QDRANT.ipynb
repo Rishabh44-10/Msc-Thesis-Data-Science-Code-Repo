{
 "cells": [
  {
   "cell_type": "markdown",
   "id": "ebbd7d04-14bd-4a82-8675-df0a2d393279",
   "metadata": {},
   "source": [
    "## Notebook Summary: Uploading 3GPP Chunks to Qdrant for Vector Retrieval\n",
    "\n",
    "This notebook implements a Qdrant-based document storage pipeline for telecom-specific RAG applications. It prepares 3GPP chunks for retrieval by embedding and uploading them to a persistent vector database.\n",
    "\n",
    "### Key Steps:\n",
    "\n",
    "1. **Load Preprocessed Chunks**  \n",
    "   Loads up to 5,000 pre-chunked 3GPP segments from a `.pkl` file for testing.\n",
    "\n",
    "2. **Embedding**  \n",
    "   Generates normalized dense vectors using `all-MiniLM-L6-v2`.\n",
    "\n",
    "3. **Metadata Tagging**  \n",
    "   Each chunk is tagged with metadata such as source file path, release version (Rel-15 or Rel-16), and inferred section.\n",
    "\n",
    "4. **Qdrant Upload**  \n",
    "   Initializes a fresh Qdrant collection and uploads vector+metadata in batches.\n",
    "\n",
    "5. **Retrieval API**  \n",
    "   Defines a retrieval function that returns the top-k most similar chunks for a given telecom query using Qdrant's cosine similarity.\n",
    "\n",
    "This notebook enables fast, persistent, and metadata-aware retrieval of telecom content—serving as a backend foundation for future RAG pipelines, especially in distributed or cloud-based deployments."
   ]
  },
  {
   "cell_type": "code",
   "execution_count": 3,
   "id": "a9e9293b-24c6-4baf-aa7f-8bbfa5b49872",
   "metadata": {},
   "outputs": [],
   "source": [
    "from qdrant_client import QdrantClient\n",
    "from qdrant_client.models import VectorParams, Distance\n",
    "from sentence_transformers import SentenceTransformer\n",
    "import pickle, re, uuid, json\n",
    "from tqdm import tqdm\n",
    "\n",
    "# Step 1: Connect to Qdrant\n",
    "client = QdrantClient(host=\"localhost\", port=6333)"
   ]
  },
  {
   "cell_type": "code",
   "execution_count": 4,
   "id": "d1f41aed-2df3-4d93-8edc-48522432b5fa",
   "metadata": {},
   "outputs": [
    {
     "name": "stdout",
     "output_type": "stream",
     "text": [
      "✅ Loaded 5000 documents from /mnt/data/RAG/3gpp_chunks.pkl\n"
     ]
    }
   ],
   "source": [
    "# Step 2: Load large .pkl file\n",
    "chunk_path = \"/mnt/data/RAG/3gpp_chunks.pkl\"\n",
    "with open(chunk_path, \"rb\") as f:\n",
    "    documents = pickle.load(f)\n",
    "\n",
    "#  Limit to first 5000 chunks for testing\n",
    "documents = documents[:5000]\n",
    "\n",
    "print(f\"✅ Loaded {len(documents)} documents from {chunk_path}\")"
   ]
  },
  {
   "cell_type": "code",
   "execution_count": 5,
   "id": "9d73e03f-e719-4fd2-aeeb-f0aa89dc0613",
   "metadata": {},
   "outputs": [
    {
     "name": "stdout",
     "output_type": "stream",
     "text": [
      "🔤 Loading MiniLM model...\n"
     ]
    }
   ],
   "source": [
    "# Step 3: Load MiniLM embedding model\n",
    "print(\"🔤 Loading MiniLM model...\")\n",
    "model = SentenceTransformer(\"all-MiniLM-L6-v2\")"
   ]
  },
  {
   "cell_type": "code",
   "execution_count": 6,
   "id": "15e6e523-6826-41a3-a28f-0f51bfa11ecb",
   "metadata": {},
   "outputs": [
    {
     "name": "stderr",
     "output_type": "stream",
     "text": [
      "/tmp/ipykernel_4045/3082891239.py:2: DeprecationWarning: `recreate_collection` method is deprecated and will be removed in the future. Use `collection_exists` to check collection existence and `create_collection` instead.\n",
      "  client.recreate_collection(\n"
     ]
    },
    {
     "data": {
      "text/plain": [
       "True"
      ]
     },
     "execution_count": 6,
     "metadata": {},
     "output_type": "execute_result"
    }
   ],
   "source": [
    "# Step 4: Create Qdrant collection\n",
    "client.recreate_collection(\n",
    "    collection_name=\"3gpp_chunks\",\n",
    "    vectors_config=VectorParams(size=384, distance=Distance.COSINE)\n",
    ")"
   ]
  },
  {
   "cell_type": "code",
   "execution_count": 8,
   "id": "f9ee99d9-355a-45b3-a9c6-54db9590e79f",
   "metadata": {},
   "outputs": [
    {
     "name": "stdout",
     "output_type": "stream",
     "text": [
      "🚀 Starting batch embedding and upload to Qdrant...\n"
     ]
    },
    {
     "name": "stderr",
     "output_type": "stream",
     "text": [
      "Embedding: 100%|████████████████████████████████| 20/20 [00:06<00:00,  2.91it/s]"
     ]
    },
    {
     "name": "stdout",
     "output_type": "stream",
     "text": [
      "✅ All documents embedded and uploaded successfully.\n"
     ]
    },
    {
     "name": "stderr",
     "output_type": "stream",
     "text": [
      "\n"
     ]
    }
   ],
   "source": [
    "from qdrant_client.models import PointStruct, VectorParams, Distance\n",
    "# Step 5: Batch-encode and upload in chunks\n",
    "batch_size = 256\n",
    "upload_batch_size = 100\n",
    "\n",
    "print(\"🚀 Starting batch embedding and upload to Qdrant...\")\n",
    "\n",
    "for i in tqdm(range(0, len(documents), batch_size), desc=\"Embedding\"):\n",
    "    batch_docs = documents[i:i+batch_size]\n",
    "    texts = [doc[\"content\"] for doc in batch_docs]\n",
    "\n",
    "    # Embed this batch\n",
    "    embeddings = model.encode(texts, normalize_embeddings=True)\n",
    "\n",
    "    # Prepare vector records with metadata\n",
    "    points = []\n",
    "    for j, (vec, doc) in enumerate(zip(embeddings, batch_docs)):\n",
    "        meta = {\n",
    "            \"source\": doc[\"source\"],\n",
    "            \"release\": \"Rel-16\" if \"Rel-16\" in doc[\"source\"] else \"Rel-15\",\n",
    "            \"section\": re.findall(r\"(\\\\d{2,}[._-]?\\\\d{2,})\", doc[\"source\"]) or [\"unknown\"]\n",
    "        }\n",
    "        points.append(PointStruct(\n",
    "            id=str(uuid.uuid4()),\n",
    "            vector=vec.tolist(),\n",
    "            payload={\n",
    "                \"content\": doc[\"content\"],\n",
    "                **meta\n",
    "            }\n",
    "        ))\n",
    "\n",
    "\n",
    "    # Upload in mini-batches of 100\n",
    "    for k in range(0, len(points), upload_batch_size):\n",
    "        client.upload_points(\n",
    "            collection_name=\"3gpp_chunks\",\n",
    "            points=points[k:k+upload_batch_size]\n",
    "        )\n",
    "\n",
    "print(\"✅ All documents embedded and uploaded successfully.\")"
   ]
  },
  {
   "cell_type": "code",
   "execution_count": 11,
   "id": "eb4d7e41-d9ff-4646-b1e7-addf5d6566d1",
   "metadata": {},
   "outputs": [
    {
     "name": "stderr",
     "output_type": "stream",
     "text": [
      "/tmp/ipykernel_4045/3239184002.py:4: DeprecationWarning: `search` method is deprecated and will be removed in the future. Use `query_points` instead.\n",
      "  results = client.search(\"3gpp_chunks\", query_vector=query_vec, limit=top_k)\n"
     ]
    }
   ],
   "source": [
    "# Step 6: Query and save top-k chunks\n",
    "def retrieve_chunks(question, top_k=5):\n",
    "    query_vec = model.encode(question, normalize_embeddings=True).tolist()\n",
    "    results = client.search(\"3gpp_chunks\", query_vector=query_vec, limit=top_k)\n",
    "    return [{\n",
    "        \"content\": r.payload[\"content\"],\n",
    "        \"source\": r.payload[\"source\"],\n",
    "        \"score\": r.score\n",
    "    } for r in results]\n",
    "\n",
    "# Example use\n",
    "query = \"What is the purpose of the NAS security context in 5G\"\n",
    "top_chunks = retrieve_chunks(query)"
   ]
  },
  {
   "cell_type": "code",
   "execution_count": 12,
   "id": "181e3184-6e4f-408c-af7e-ad113d2b8d72",
   "metadata": {},
   "outputs": [
    {
     "name": "stdout",
     "output_type": "stream",
     "text": [
      "[{'content': 'other gNBs and the 5GC as a gNB. 4.4 5GC architecture In the 5G '\n",
      "             'system architecture specified in TS 23.501[2], besides CP and UP '\n",
      "             'separation, 5GC control plane is modularized into multiple NFs '\n",
      "             'to enable flexible deployment and efficient network slicing. '\n",
      "             'Meanwhile, the service based architecture is introduced in 5G '\n",
      "             'control plane to further enable the flexibility, so the '\n",
      "             'interaction between network functions of 5GC is described in '\n",
      "             'following two representations: - Reference point representation '\n",
      "             '- Service-based interface representation Also, the identified '\n",
      "             'data storage functions (i.e. UDSF and SDSF) are presented in '\n",
      "             'data storage architecture diagram. 5GC architecture is '\n",
      "             'documented in TS 23.501 [2]. 4.5 SON evolution for 5G How to '\n",
      "             'apply SON concept for 5G network management. LTE SON has been '\n",
      "             'primarily focused on several use cases affecting the RAN. There '\n",
      "             'are increasing network dimension and complexity in 5G networks, '\n",
      "             'especially considering the multiple services/devices/tenants in '\n",
      "             '5G networks. SON supporting for 5G should be considered. 4.6 '\n",
      "             'Management support for functionality supporting for edge '\n",
      "             'computing Edge computing enables operator and 3rd party services '\n",
      "             \"to be hosted close to the UE\\\\'s access point of attachment, so \"\n",
      "             'as to achieve an efficient service delivery through the reduced '\n",
      "             'end-to-end latency and load on the transport network. The 5G '\n",
      "             'core network may expose network information and capabilities to '\n",
      "             'an Edge Computing Application Function. The functionality '\n",
      "             'supporting for - Local Routing: the 5G Core Network selects UPF '\n",
      "             'to route the user traffic to the local Data Network. - Traffic '\n",
      "             'Steering: the 5G Core Network selects the traffic to be routed '\n",
      "             'to',\n",
      "  'score': 0.55784523,\n",
      "  'source': '/mnt/data/TSpec-LLM/3GPP-clean/Rel-15/28_series/28802-f00.md'},\n",
      " {'content': 'Connectivity (NGEN-DC) or NR-E-UTRA Dual Connectivity (NE-DC). '\n",
      "             'There are different user plane connectivity options of the '\n",
      "             'master node 4.3 5GC architecture The 5G architecture is defined '\n",
      "             'as service-based and the interaction between network functions '\n",
      "             'is represented in the following two ways: - Service-based '\n",
      "             'representation - Reference point representation network '\n",
      "             'functions within the 5GC control plane shall only use '\n",
      "             'service-based interfaces for their interactions. 4.4 Data '\n",
      "             'storage architecture 5G system architecture allows UDM, PCF and '\n",
      "             'NEF to store their data in the Unified Data Repository (UDR), '\n",
      "             'and allows any NF to store and retrieve its unstructured data '\n",
      "             '(e.g. UE context) into/from a UDSF. 4.5 AMF load balancing '\n",
      "             'insides AMF Region/AMF Set When deploying AMF Region or AMF Set, '\n",
      "             'AMF load balancing insides AMF Region/AMF Set is achieved by '\n",
      "             'setting a weight factor for each AMF according to its relative '\n",
      "             'capacity compared to other AMFs, see detail in 4.6 5GC NFs '\n",
      "             'supporting edge computing Edge computing enables operator and '\n",
      "             \"3rd party services to be hosted close to the UE\\\\'s access point \"\n",
      "             'of attachment, so as to achieve an efficient service delivery '\n",
      "             'through the reduced end-to-end latency and 23.501 [2]. 4.7 '\n",
      "             'General information for network slice instance and network slice '\n",
      "             'subnet instance The general information used to describe network '\n",
      "             'slice instance and network slice subnet instance are specified '\n",
      "             'in TS 28.531 [6]. 5 Requirements 5.1 Requirements for management '\n",
      "             'of NG-RAN The following specific requirements apply to NG-RAN: '\n",
      "             'REQ-NGRAN_NRM-CON-001: The NRM definitions shall support '\n",
      "             'management of NG-RAN, containing gNB or/and ng-eNB. '\n",
      "             'REQ-NGRAN_NRM-CON-002: The NRM definitions shall support '\n",
      "             'management of either',\n",
      "  'score': 0.5205702,\n",
      "  'source': '/mnt/data/TSpec-LLM/3GPP-clean/Rel-15/28_series/28540-f10.md'},\n",
      " {'content': 'definition of the same abbreviation, if any, in 3GPP TR 21.905 '\n",
      "             '[1]. 5G-EIR 5G-Equipment Identity Register EIR Equipment '\n",
      "             'Identity Register PEI Permanent Equipment Identifier 4 Overview '\n",
      "             '4.1 Introduction N5g-eir is a Service-based interface exhibited '\n",
      "             'by 5G-EIR (5G-Equipment Identity Register) which is an optional '\n",
      "             'network function that supports the following functionality: - '\n",
      "             \"Check the status of Equipment\\\\'s identity (e.g. to check that \"\n",
      "             'it has not been blacklisted). The reference point N17 (see Fig '\n",
      "             '4-1 below) shows the interaction between the 5G-Equipment '\n",
      "             'Identity Register 5G-EIR and the AMF (Access and Mobility '\n",
      "             'Management Function) enabling the check of the status of the '\n",
      "             'mobile equipment identity. Figure 4-1: Reference Model -- '\n",
      "             'N5g-eir During any procedure establishing a signalling '\n",
      "             'connection with the UE the network may optionally perform an ME '\n",
      "             'identity check with 5G-EIR via the N5g-eir_Equipment Identity '\n",
      "             'Check Service exhibited by 5G-EIR. 5 Services offered by the '\n",
      "             '5G-EIR NF 5.1 Introduction The following NF service is offered '\n",
      "             'by the N5g-eir to check the ME whether it is black-listed or '\n",
      "             'not: - N5g-eir_EquipmentIdentityCheck Table 5.1-1: NF Services '\n",
      "             'provided by 5G-EIR Service Name Description Consumer '\n",
      "             'N5g-eir_EquipmentIdentityCheck This service offered by the '\n",
      "             '5G-EIR allows the consumer to check the Permanent Equipment '\n",
      "             'Identifier (PEI) and check whether the PEI is in the black list '\n",
      "             'or not. AMF The N5g-eir_Equipment Identity Check service is '\n",
      "             'specified in 3GPP TS 23.502 [3], clause 4.2.2.2.2 5.2 '\n",
      "             'N5g-eir_EquipmentIdentityCheck Service 5.2.1 Service Description '\n",
      "             'The N5g-eir_Equipment Identity Check service is provided by the '\n",
      "             '5G-EIR to check the Permanent Equipment Identifier (PEI) whether '\n",
      "             'it is in the black list or not. The',\n",
      "  'score': 0.4944484,\n",
      "  'source': '/mnt/data/TSpec-LLM/3GPP-clean/Rel-15/29_series/29511-f60.md'},\n",
      " {'content': 'in 3GPP TR 38.801 [3]. Non-standalone E-UTRA: Defined in 3GPP TR '\n",
      "             '38.801 [3]. 3.2 Abbreviations For the purposes of the present '\n",
      "             'document, the abbreviations given in 3GPP TR 21.905 [1] and the '\n",
      "             'following apply. An abbreviation defined in the present document '\n",
      "             'takes precedence over the definition of the same abbreviation, '\n",
      "             'if any, in 3GPP TR 21.905 [1]. 5GC 5G Core Network 5QI 5G QoS '\n",
      "             'Indicator AF Application Function AMF Access and Mobility '\n",
      "             'Management Function ANR Automatic Neighbour Relation AUFS '\n",
      "             'Authentication Server Function DC Dual Connectivity EPC Evolved '\n",
      "             'Packet Core KQI Key Quality Indicator MeNB Master eNB MOI '\n",
      "             'Managed Object Instance NEF Network Exposure Function NR New '\n",
      "             'Radio NRF NF Repository Function OTT Over The Top PCF Policy '\n",
      "             'Control function PM Performance Management QoE Quality of '\n",
      "             'Experience SDSF Structured Data Storage Function SeNB Secondary '\n",
      "             'eNB SMF Session Management Function UDM Unified Data Management '\n",
      "             'UDSF Unstructured Data Storage Function UPF User Plane Function '\n",
      "             '4 Concepts and background 4.1 General The potential issues to be '\n",
      "             'studied for management aspects of 5G network architecture and '\n",
      "             'features are listed in the following subclauses. 4.2 QoE '\n",
      "             'measurement collection One main motivation of mobile network '\n",
      "             'evolution is to improve the user experience, so the user '\n",
      "             'experience evaluation at UE side is vital to network operators, '\n",
      "             'especially when the operators provide some real-time services '\n",
      "             'which require high date rate and low latency, for example, '\n",
      "             'operators regard streaming services (typically video services) '\n",
      "             'as the key booster of the commercial outstanding performance '\n",
      "             \"growth rate, customers\\\\' experience should be focused on. There \"\n",
      "             'may have following two mechanisms',\n",
      "  'score': 0.46838635,\n",
      "  'source': '/mnt/data/TSpec-LLM/3GPP-clean/Rel-15/28_series/28802-f00.md'},\n",
      " {'content': 'supported in the first release of the next generation network '\n",
      "             '(e.g. with respect to features like trace and MDT). New features '\n",
      "             'like Network Slicing and virtualised functions which are part of '\n",
      "             'RAN may need new management features/support. 5 Use cases '\n",
      "             'related to management and orchestration architecture 5.1 '\n",
      "             'Management and orchestration of networks containing non-5G NE '\n",
      "             'and 5G NE 5.1.1 Introduction This use case highlights potential '\n",
      "             'management options/scenarios for possible network deployments, '\n",
      "             'specifically at the early stages of introducing 5G network '\n",
      "             'elements along with existing non-5G generation 3GPP network(s). '\n",
      "             'Operator wants to manage a network containing both non-5G NE(s) '\n",
      "             'and 5G 5.1.2 Pre-conditions The network contains non-5G NE(s) '\n",
      "             'and 5G NE(s). The non-5G NE(s) are managed by existing '\n",
      "             'management functions. 5.1.3 Description There are following '\n",
      "             'scenarios for operator to manage the 5G NE functions: 1. '\n",
      "             'Operator enhances the existing management and orchestration '\n",
      "             'function to manage both 5G NE(s) and non-5G NE(s). For example, '\n",
      "             'operator may enhance the fault management function to retrieve '\n",
      "             'the faults information from both non-5G NE and 5G NE; or 2. '\n",
      "             'Operator creates new management functions to manage both 5G NE '\n",
      "             'and non-5G NE. For example, operator may create new management '\n",
      "             'function to manage the next generation network feature massive '\n",
      "             'Internet of Things. 5.1.4 Post-conditions The non-5G network '\n",
      "             'elements and 5G network elements are both managed. 5.2 Use case '\n",
      "             'of management and orchestration architecture for network slicing '\n",
      "             '5.2.1 Introduction The operator wants to manage the next '\n",
      "             'generation network slice instances; thus the management '\n",
      "             'architecture needs to provide the corresponding support. 5.2.2 '\n",
      "             'Pre-conditions The requirements',\n",
      "  'score': 0.45589694,\n",
      "  'source': '/mnt/data/TSpec-LLM/3GPP-clean/Rel-15/28_series/28800-f00.md'}]\n"
     ]
    }
   ],
   "source": [
    "from pprint import pprint  # optional, for better formatting\n",
    "\n",
    "# Show the top chunks in notebook output\n",
    "pprint(top_chunks)"
   ]
  },
  {
   "cell_type": "code",
   "execution_count": null,
   "id": "216f898f-9112-423e-b16f-f09c80c18664",
   "metadata": {},
   "outputs": [],
   "source": [
    "# Save to JSON\n",
    "output_file = \"retrieved_chunks.json\"\n",
    "with open(output_file, \"w\") as f:\n",
    "    json.dump({\"question\": query, \"chunks\": top_chunks}, f, indent=2)\n",
    "\n",
    "print(f\"✅ Saved top chunks to {output_file}\")"
   ]
  }
 ],
 "metadata": {
  "kernelspec": {
   "display_name": "Python 3 (ipykernel)",
   "language": "python",
   "name": "python3"
  },
  "language_info": {
   "codemirror_mode": {
    "name": "ipython",
    "version": 3
   },
   "file_extension": ".py",
   "mimetype": "text/x-python",
   "name": "python",
   "nbconvert_exporter": "python",
   "pygments_lexer": "ipython3",
   "version": "3.13.4"
  }
 },
 "nbformat": 4,
 "nbformat_minor": 5
}
