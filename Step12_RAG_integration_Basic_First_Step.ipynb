{
 "cells": [
  {
   "cell_type": "markdown",
   "id": "3a67dd7b-e423-41f8-936d-b5f431f90745",
   "metadata": {},
   "source": [
    "## Notebook Summary: RAG + LLaMA-2 Evaluation for Telecom QA\n",
    "\n",
    "This notebook evaluates a fine-tuned LLaMA-2 model integrated with a centralized FAISS-based RAG system for extractive telecom question answering.\n",
    "\n",
    "### Key Steps:\n",
    "\n",
    "1. **Context Retrieval**  \n",
    "   Uses FAISS to retrieve top-k chunks for each query from embedded 3GPP documents. Chunks are reranked using a hybrid score combining lexical overlap, TF-IDF, and FAISS recall rank.\n",
    "\n",
    "2. **Prompt Construction**  \n",
    "   Assembles a prompt with system instructions and the selected context chunks using the `[INST]` format expected by LLaMA-2 with LoRA.\n",
    "\n",
    "3. **Model Inference**  \n",
    "   Generates extractive answers using a LoRA-fine-tuned LLaMA-2 model loaded on GPU, optimized for telecom QA tasks.\n",
    "\n",
    "4. **Prediction Cleaning**  \n",
    "   Applies regex-based filters to remove formatting noise, loops, and low-confidence patterns from model output.\n",
    "\n",
    "5. **Evaluation**  \n",
    "   Compares model predictions to 100 ground-truth QA pairs using:\n",
    "   - **Exact Match** and **F1** (SQuAD)\n",
    "   - **ROUGE-L** for overlap quality\n",
    "   - **BLEU** for syntactic similarity\n",
    "\n",
    "This notebook validates the effectiveness of centralized RAG in grounding telecom-specific LLM outputs and forms a baseline for later federated enhancements in the thesis workflow."
   ]
  },
  {
   "cell_type": "markdown",
   "id": "2561513d-0119-46b7-89fc-32e9937df862",
   "metadata": {},
   "source": [
    "| Setup | Retrieval Backend | Context Strategy | Enhancements | Safety / Noise Control | Key Aim |\n",
    "|-------|-------------------|------------------|--------------|------------------------|---------|\n",
    "| **1** *(Baseline)* | FAISS only | Single chunk prompt | None | None | Simple baseline QA |\n",
    "| **2** *(Heuristic rerank)* | FAISS | Single chunk prompt | TF-IDF + lexical overlap reranking | None | Improve chunk precision |\n",
    "| **3** *(Compound QA)* | FAISS | Per-question reranked chunks | Compound question splitting | Basic containment check | Handle multi-part queries |\n",
    "| **4** *(Procedural routing)* | FAISS + cross-encoder | Per-question reranked chunks | Cross-encoder rerank, compound handling, regex-based procedural span extraction | Context containment check | Target procedural queries |\n",
    "| **5** *(Qdrant backend)* | Qdrant + cross-encoder | Per-question reranked chunks | Cross-encoder rerank | None | Persistent vector DB retrieval |\n",
    "| **6** *(Fusion prompting)* | FAISS | Fused top-k chunks into one prompt | Source-tagged multi-chunk fusion | None | More complete context in one go |\n",
    "| **7** *(Fusion + cross-encoder)* | FAISS + cross-encoder | Fused top-k reranked chunks | Source-tagged fusion | None | Combine precision retrieval with dense prompt coverage |\n",
    "| **8** *(Fusion + cross-encoder + truncation)* | FAISS + cross-encoder | Fusion of top spans | Sliding-window truncation + TF-IDF + lexical scoring | Fuzzy grounding validation | Limit prompt length, ensure grounding |\n",
    "| **9** *(Fusion + cross-encoder + saliency)* | FAISS + cross-encoder | Fusion of salient sentences | TF-IDF saliency extraction + semantic deduplication | Domain-aware sentence tokenization | Reduce noise and redundancy in prompts |\n",
    "| **10** *(Confidence-weighted semantic fusion)* | FAISS + cross-encoder | Per-chunk saliency rewrite → per-chunk QA → semantic fusion | Answer clustering + best-answer selection | Deduplication before prompting | Ensemble-like fusion of multiple perspectives |"
   ]
  },
  {
   "cell_type": "code",
   "execution_count": 1,
   "id": "05e1960b-aa0f-4868-b39b-0d181314af2d",
   "metadata": {},
   "outputs": [],
   "source": [
    "from pathlib import Path\n",
    "import faiss\n",
    "import pickle\n",
    "import torch\n",
    "import re\n",
    "from transformers import AutoTokenizer, AutoModelForCausalLM, pipeline\n",
    "from sentence_transformers import SentenceTransformer\n",
    "\n",
    "# Load FAISS index and chunks\n",
    "index_path = \"/mnt/data/RAG/3gpp_index.faiss\"\n",
    "chunks_path = \"/mnt/data/RAG/3gpp_chunks.pkl\"\n",
    "\n",
    "index = faiss.read_index(index_path)\n",
    "with open(chunks_path, \"rb\") as f:\n",
    "    documents = pickle.load(f)"
   ]
  },
  {
   "cell_type": "code",
   "execution_count": 2,
   "id": "68427894-fdd9-4a0c-be74-eac255ded6ff",
   "metadata": {},
   "outputs": [],
   "source": [
    "# Load embedding model used for indexing\n",
    "embedding_model = SentenceTransformer(\"all-MiniLM-L6-v2\")\n",
    "def retrieve_context(query, top_k=3):\n",
    "    query_emb = embedding_model.encode([query], normalize_embeddings=True)\n",
    "    D, I = index.search(query_emb.astype(\"float32\"), top_k)\n",
    "    return [documents[i] for i in I[0]]\n",
    "\n",
    "SYSTEM_PROMPT = (\n",
    "    \"You are a precise assistant. Extract the exact answer span from the context. \"\n",
    "    \"Do not paraphrase, summarize, or add extra information. \"\n",
    "    \"The answer must appear exactly in the context.\"\n",
    ")"
   ]
  },
  {
   "cell_type": "code",
   "execution_count": 3,
   "id": "1b886326-2e97-471f-86cf-693f51e6d583",
   "metadata": {},
   "outputs": [
    {
     "data": {
      "application/vnd.jupyter.widget-view+json": {
       "model_id": "d340c6078c574a40a5191ddea7fde307",
       "version_major": 2,
       "version_minor": 0
      },
      "text/plain": [
       "Loading checkpoint shards:   0%|          | 0/2 [00:00<?, ?it/s]"
      ]
     },
     "metadata": {},
     "output_type": "display_data"
    },
    {
     "name": "stderr",
     "output_type": "stream",
     "text": [
      "Device set to use cuda:0\n"
     ]
    }
   ],
   "source": [
    "def build_rag_prompt(context_chunks, question):\n",
    "    combined_context = \"\\n\\n\".join([chunk['content'] for chunk in context_chunks])\n",
    "    user_prompt = (\n",
    "        f\"Context: {combined_context}\\n\\n\"\n",
    "        f\"Question: {question}\\n\"\n",
    "        f\"Answer from the context only:\"\n",
    "    )\n",
    "    return f\"<s>[INST] <<SYS>>\\n{SYSTEM_PROMPT}\\n<</SYS>>\\n\\n{user_prompt} [/INST]\"\n",
    "\n",
    "model_path = \"/mnt/data/llama2_qa_lora_output6/final\"\n",
    "\n",
    "tokenizer = AutoTokenizer.from_pretrained(model_path)\n",
    "model = AutoModelForCausalLM.from_pretrained(model_path, torch_dtype=torch.bfloat16).to(\"cuda\")\n",
    "\n",
    "qa_pipeline = pipeline(\"text-generation\", model=model, tokenizer=tokenizer)"
   ]
  },
  {
   "cell_type": "code",
   "execution_count": 4,
   "id": "77f73f1f-7f45-440d-94c8-a25eb891f4ad",
   "metadata": {},
   "outputs": [],
   "source": [
    "def clean_prediction(raw_text):\n",
    "    # Remove everything before the last [INST]\n",
    "    answer = raw_text.split(\"[/INST]\")[-1].strip()\n",
    "\n",
    "    # Remove strange characters\n",
    "    answer = re.sub(r\"[^\\w\\s\\-.,:/()]\", \"\", answer)\n",
    "\n",
    "    # Remove repeating phrases like \"The key is... The key is... The key is...\"\n",
    "    answer = re.sub(r'(\\b.+?:)(\\s*\\1)+', r'\\1', answer)\n",
    "\n",
    "    # Trim repetitive word loops (e.g., \"structured as follows\" x 5)\n",
    "    tokens = answer.split()\n",
    "    for i in range(1, len(tokens) // 2):\n",
    "        if tokens[:i] == tokens[i:2*i]:\n",
    "            answer = \" \".join(tokens[:i])\n",
    "            break\n",
    "\n",
    "    # Optionally truncate to sentence boundary\n",
    "    sentence_end = re.search(r'[.?!]', answer)\n",
    "    if sentence_end:\n",
    "        answer = answer[:sentence_end.end()]\n",
    "\n",
    "    return answer.strip()"
   ]
  },
  {
   "cell_type": "code",
   "execution_count": 5,
   "id": "3c077b49-540f-48eb-8b90-924a9b7c4fca",
   "metadata": {},
   "outputs": [],
   "source": [
    "import re\n",
    "import numpy as np\n",
    "from sklearn.feature_extraction.text import TfidfVectorizer\n",
    "from nltk.corpus import stopwords\n",
    "from nltk import word_tokenize\n",
    "import nltk\n",
    "\n",
    "STOPWORDS = set(stopwords.words(\"english\"))\n",
    "\n",
    "import re\n",
    "\n",
    "def normalize(text):\n",
    "    return re.sub(r'\\W+', ' ', text.lower())\n",
    "\n",
    "def lexical_overlap(query, chunk):\n",
    "    q_tokens = set(normalize(query).split()) - STOPWORDS\n",
    "    c_tokens = set(normalize(chunk).split()) - STOPWORDS\n",
    "    return len(q_tokens & c_tokens) / (len(q_tokens | c_tokens) + 1e-5)\n",
    "\n",
    "def tfidf_score(query, chunk, vectorizer=None):\n",
    "    docs = [query, chunk]\n",
    "    if not vectorizer:\n",
    "        vectorizer = TfidfVectorizer().fit(docs)\n",
    "    vecs = vectorizer.transform(docs)\n",
    "    return (vecs[0] @ vecs[1].T).A[0][0]\n",
    "\n",
    "def rerank_chunks(chunks, query, alpha_overlap=0.7, beta_faiss=0.3, top_k=3):\n",
    "    vectorizer = TfidfVectorizer().fit([query] + [c[\"content\"] for c in chunks])\n",
    "    reranked = []\n",
    "\n",
    "    for idx, c in enumerate(chunks):\n",
    "        overlap = lexical_overlap(query, c[\"content\"])\n",
    "        tfidf_sim = tfidf_score(query, c[\"content\"], vectorizer)\n",
    "        faiss_rank_bonus = (len(chunks) - idx) / len(chunks)\n",
    "\n",
    "        # Final rerank score = weighted combination\n",
    "        score = alpha_overlap * overlap + (1 - alpha_overlap) * tfidf_sim + beta_faiss * faiss_rank_bonus\n",
    "\n",
    "        reranked.append((score, c))\n",
    "\n",
    "    reranked.sort(reverse=True, key=lambda x: x[0])\n",
    "    return [c for _, c in reranked[:top_k]]"
   ]
  },
  {
   "cell_type": "code",
   "execution_count": 6,
   "id": "d7663e43-9264-4170-955c-2d9a5b1c8b96",
   "metadata": {},
   "outputs": [],
   "source": [
    "def answer_with_rag_llama(question, top_k=5, verbose=False):\n",
    "    initial_chunks = retrieve_context(question, top_k=10)  \n",
    "    retrieved = rerank_chunks(initial_chunks, question, top_k=top_k)\n",
    "    prompt = build_rag_prompt(retrieved, question)\n",
    "    \n",
    "    # Inference\n",
    "    raw_output = qa_pipeline(\n",
    "        prompt, \n",
    "        max_new_tokens=160, \n",
    "        do_sample=False, \n",
    "        eos_token_id=tokenizer.eos_token_id, \n",
    "        pad_token_id=tokenizer.eos_token_id\n",
    "    )[0][\"generated_text\"]\n",
    "\n",
    "    answer = clean_prediction(raw_output)\n",
    "\n",
    "    # Sanity check on the answer\n",
    "    if len(answer.split()) < 2 or len(answer.split()) > 40:\n",
    "        print(\"⚠️ Warning: Possibly bad output. Check content or retrieval.\")\n",
    "\n",
    "    if verbose:\n",
    "        print(\"📌 Prompt:\\n\", prompt)\n",
    "        print(\"\\n🧾 Raw Output:\\n\", raw_output)\n",
    "        print(\"\\n✅ Cleaned Answer:\", answer)\n",
    "        for i, chunk in enumerate(retrieved):\n",
    "            print(f\"\\n--- Context {i+1} ---\")\n",
    "            print(chunk[\"content\"])\n",
    "\n",
    "    return answer, retrieved"
   ]
  },
  {
   "cell_type": "code",
   "execution_count": 7,
   "id": "af5c98c4-2480-4670-b66b-4854384f2c2a",
   "metadata": {},
   "outputs": [
    {
     "name": "stderr",
     "output_type": "stream",
     "text": [
      "  0%|                                                   | 0/100 [00:00<?, ?it/s]The following generation flags are not valid and may be ignored: ['temperature', 'top_p']. Set `TRANSFORMERS_VERBOSITY=info` for more details.\n",
      "  1%|▍                                          | 1/100 [00:07<12:56,  7.84s/it]The following generation flags are not valid and may be ignored: ['temperature', 'top_p']. Set `TRANSFORMERS_VERBOSITY=info` for more details.\n"
     ]
    },
    {
     "name": "stdout",
     "output_type": "stream",
     "text": [
      "⚠️ Warning: Possibly bad output. Check content or retrieval.\n"
     ]
    },
    {
     "name": "stderr",
     "output_type": "stream",
     "text": [
      "  2%|▊                                          | 2/100 [00:15<12:48,  7.84s/it]The following generation flags are not valid and may be ignored: ['temperature', 'top_p']. Set `TRANSFORMERS_VERBOSITY=info` for more details.\n",
      "  3%|█▎                                         | 3/100 [00:23<12:43,  7.87s/it]The following generation flags are not valid and may be ignored: ['temperature', 'top_p']. Set `TRANSFORMERS_VERBOSITY=info` for more details.\n",
      "  4%|█▋                                         | 4/100 [00:31<12:32,  7.84s/it]The following generation flags are not valid and may be ignored: ['temperature', 'top_p']. Set `TRANSFORMERS_VERBOSITY=info` for more details.\n",
      "  5%|██▏                                        | 5/100 [00:35<10:10,  6.43s/it]The following generation flags are not valid and may be ignored: ['temperature', 'top_p']. Set `TRANSFORMERS_VERBOSITY=info` for more details.\n",
      "  6%|██▌                                        | 6/100 [00:43<10:45,  6.86s/it]The following generation flags are not valid and may be ignored: ['temperature', 'top_p']. Set `TRANSFORMERS_VERBOSITY=info` for more details.\n",
      "  7%|███                                        | 7/100 [00:43<07:37,  4.92s/it]The following generation flags are not valid and may be ignored: ['temperature', 'top_p']. Set `TRANSFORMERS_VERBOSITY=info` for more details.\n",
      "  8%|███▍                                       | 8/100 [00:51<08:56,  5.83s/it]The following generation flags are not valid and may be ignored: ['temperature', 'top_p']. Set `TRANSFORMERS_VERBOSITY=info` for more details.\n",
      "  9%|███▊                                       | 9/100 [00:59<09:49,  6.47s/it]The following generation flags are not valid and may be ignored: ['temperature', 'top_p']. Set `TRANSFORMERS_VERBOSITY=info` for more details.\n",
      " 10%|████▏                                     | 10/100 [01:00<07:17,  4.86s/it]You seem to be using the pipelines sequentially on GPU. In order to maximize efficiency please use a dataset\n",
      "The following generation flags are not valid and may be ignored: ['temperature', 'top_p']. Set `TRANSFORMERS_VERBOSITY=info` for more details.\n",
      " 11%|████▌                                     | 11/100 [01:08<08:24,  5.67s/it]The following generation flags are not valid and may be ignored: ['temperature', 'top_p']. Set `TRANSFORMERS_VERBOSITY=info` for more details.\n",
      " 12%|█████                                     | 12/100 [01:16<09:34,  6.53s/it]The following generation flags are not valid and may be ignored: ['temperature', 'top_p']. Set `TRANSFORMERS_VERBOSITY=info` for more details.\n"
     ]
    },
    {
     "name": "stdout",
     "output_type": "stream",
     "text": [
      "⚠️ Warning: Possibly bad output. Check content or retrieval.\n"
     ]
    },
    {
     "name": "stderr",
     "output_type": "stream",
     "text": [
      " 13%|█████▍                                    | 13/100 [01:24<09:58,  6.88s/it]The following generation flags are not valid and may be ignored: ['temperature', 'top_p']. Set `TRANSFORMERS_VERBOSITY=info` for more details.\n",
      " 14%|█████▉                                    | 14/100 [01:32<10:09,  7.09s/it]The following generation flags are not valid and may be ignored: ['temperature', 'top_p']. Set `TRANSFORMERS_VERBOSITY=info` for more details.\n"
     ]
    },
    {
     "name": "stdout",
     "output_type": "stream",
     "text": [
      "⚠️ Warning: Possibly bad output. Check content or retrieval.\n"
     ]
    },
    {
     "name": "stderr",
     "output_type": "stream",
     "text": [
      " 15%|██████▎                                   | 15/100 [01:39<10:20,  7.30s/it]The following generation flags are not valid and may be ignored: ['temperature', 'top_p']. Set `TRANSFORMERS_VERBOSITY=info` for more details.\n",
      " 16%|██████▋                                   | 16/100 [01:47<10:26,  7.46s/it]The following generation flags are not valid and may be ignored: ['temperature', 'top_p']. Set `TRANSFORMERS_VERBOSITY=info` for more details.\n",
      " 17%|███████▏                                  | 17/100 [01:55<10:18,  7.45s/it]The following generation flags are not valid and may be ignored: ['temperature', 'top_p']. Set `TRANSFORMERS_VERBOSITY=info` for more details.\n",
      " 18%|███████▌                                  | 18/100 [01:56<07:41,  5.63s/it]The following generation flags are not valid and may be ignored: ['temperature', 'top_p']. Set `TRANSFORMERS_VERBOSITY=info` for more details.\n",
      " 19%|███████▉                                  | 19/100 [02:04<08:30,  6.30s/it]The following generation flags are not valid and may be ignored: ['temperature', 'top_p']. Set `TRANSFORMERS_VERBOSITY=info` for more details.\n",
      " 20%|████████▍                                 | 20/100 [02:12<08:54,  6.68s/it]The following generation flags are not valid and may be ignored: ['temperature', 'top_p']. Set `TRANSFORMERS_VERBOSITY=info` for more details.\n",
      " 21%|████████▊                                 | 21/100 [02:19<09:16,  7.04s/it]The following generation flags are not valid and may be ignored: ['temperature', 'top_p']. Set `TRANSFORMERS_VERBOSITY=info` for more details.\n",
      " 22%|█████████▏                                | 22/100 [02:20<06:45,  5.20s/it]The following generation flags are not valid and may be ignored: ['temperature', 'top_p']. Set `TRANSFORMERS_VERBOSITY=info` for more details.\n",
      " 23%|█████████▋                                | 23/100 [02:28<07:37,  5.95s/it]The following generation flags are not valid and may be ignored: ['temperature', 'top_p']. Set `TRANSFORMERS_VERBOSITY=info` for more details.\n",
      " 24%|██████████                                | 24/100 [02:36<08:10,  6.45s/it]The following generation flags are not valid and may be ignored: ['temperature', 'top_p']. Set `TRANSFORMERS_VERBOSITY=info` for more details.\n"
     ]
    },
    {
     "name": "stdout",
     "output_type": "stream",
     "text": [
      "⚠️ Warning: Possibly bad output. Check content or retrieval.\n"
     ]
    },
    {
     "name": "stderr",
     "output_type": "stream",
     "text": [
      " 25%|██████████▌                               | 25/100 [02:44<08:37,  6.90s/it]The following generation flags are not valid and may be ignored: ['temperature', 'top_p']. Set `TRANSFORMERS_VERBOSITY=info` for more details.\n",
      " 26%|██████████▉                               | 26/100 [02:45<06:19,  5.12s/it]The following generation flags are not valid and may be ignored: ['temperature', 'top_p']. Set `TRANSFORMERS_VERBOSITY=info` for more details.\n",
      " 27%|███████████▎                              | 27/100 [02:53<07:18,  6.01s/it]The following generation flags are not valid and may be ignored: ['temperature', 'top_p']. Set `TRANSFORMERS_VERBOSITY=info` for more details.\n",
      " 28%|███████████▊                              | 28/100 [03:01<07:54,  6.59s/it]The following generation flags are not valid and may be ignored: ['temperature', 'top_p']. Set `TRANSFORMERS_VERBOSITY=info` for more details.\n",
      " 29%|████████████▏                             | 29/100 [03:08<08:10,  6.91s/it]The following generation flags are not valid and may be ignored: ['temperature', 'top_p']. Set `TRANSFORMERS_VERBOSITY=info` for more details.\n",
      " 30%|████████████▌                             | 30/100 [03:16<08:19,  7.13s/it]The following generation flags are not valid and may be ignored: ['temperature', 'top_p']. Set `TRANSFORMERS_VERBOSITY=info` for more details.\n",
      " 31%|█████████████                             | 31/100 [03:24<08:23,  7.30s/it]The following generation flags are not valid and may be ignored: ['temperature', 'top_p']. Set `TRANSFORMERS_VERBOSITY=info` for more details.\n",
      " 32%|█████████████▍                            | 32/100 [03:31<08:22,  7.39s/it]The following generation flags are not valid and may be ignored: ['temperature', 'top_p']. Set `TRANSFORMERS_VERBOSITY=info` for more details.\n",
      " 33%|█████████████▊                            | 33/100 [03:39<08:21,  7.49s/it]The following generation flags are not valid and may be ignored: ['temperature', 'top_p']. Set `TRANSFORMERS_VERBOSITY=info` for more details.\n",
      " 34%|██████████████▎                           | 34/100 [03:47<08:25,  7.66s/it]The following generation flags are not valid and may be ignored: ['temperature', 'top_p']. Set `TRANSFORMERS_VERBOSITY=info` for more details.\n",
      " 35%|██████████████▋                           | 35/100 [03:55<08:17,  7.65s/it]The following generation flags are not valid and may be ignored: ['temperature', 'top_p']. Set `TRANSFORMERS_VERBOSITY=info` for more details.\n",
      " 36%|███████████████                           | 36/100 [04:02<08:09,  7.64s/it]The following generation flags are not valid and may be ignored: ['temperature', 'top_p']. Set `TRANSFORMERS_VERBOSITY=info` for more details.\n",
      " 37%|███████████████▌                          | 37/100 [04:10<08:01,  7.64s/it]The following generation flags are not valid and may be ignored: ['temperature', 'top_p']. Set `TRANSFORMERS_VERBOSITY=info` for more details.\n",
      " 38%|███████████████▉                          | 38/100 [04:17<07:50,  7.58s/it]The following generation flags are not valid and may be ignored: ['temperature', 'top_p']. Set `TRANSFORMERS_VERBOSITY=info` for more details.\n",
      " 39%|████████████████▍                         | 39/100 [04:25<07:41,  7.57s/it]The following generation flags are not valid and may be ignored: ['temperature', 'top_p']. Set `TRANSFORMERS_VERBOSITY=info` for more details.\n",
      " 40%|████████████████▊                         | 40/100 [04:30<06:59,  6.99s/it]The following generation flags are not valid and may be ignored: ['temperature', 'top_p']. Set `TRANSFORMERS_VERBOSITY=info` for more details.\n",
      " 41%|█████████████████▏                        | 41/100 [04:38<07:04,  7.19s/it]The following generation flags are not valid and may be ignored: ['temperature', 'top_p']. Set `TRANSFORMERS_VERBOSITY=info` for more details.\n",
      " 42%|█████████████████▋                        | 42/100 [04:46<07:06,  7.35s/it]The following generation flags are not valid and may be ignored: ['temperature', 'top_p']. Set `TRANSFORMERS_VERBOSITY=info` for more details.\n",
      " 43%|██████████████████                        | 43/100 [04:47<05:17,  5.57s/it]The following generation flags are not valid and may be ignored: ['temperature', 'top_p']. Set `TRANSFORMERS_VERBOSITY=info` for more details.\n",
      " 44%|██████████████████▍                       | 44/100 [04:49<04:10,  4.47s/it]The following generation flags are not valid and may be ignored: ['temperature', 'top_p']. Set `TRANSFORMERS_VERBOSITY=info` for more details.\n",
      " 45%|██████████████████▉                       | 45/100 [04:57<04:58,  5.43s/it]The following generation flags are not valid and may be ignored: ['temperature', 'top_p']. Set `TRANSFORMERS_VERBOSITY=info` for more details.\n",
      " 46%|███████████████████▎                      | 46/100 [05:04<05:27,  6.06s/it]The following generation flags are not valid and may be ignored: ['temperature', 'top_p']. Set `TRANSFORMERS_VERBOSITY=info` for more details.\n",
      " 47%|███████████████████▋                      | 47/100 [05:06<04:11,  4.75s/it]The following generation flags are not valid and may be ignored: ['temperature', 'top_p']. Set `TRANSFORMERS_VERBOSITY=info` for more details.\n",
      " 48%|████████████████████▏                     | 48/100 [05:14<04:53,  5.65s/it]The following generation flags are not valid and may be ignored: ['temperature', 'top_p']. Set `TRANSFORMERS_VERBOSITY=info` for more details.\n",
      " 49%|████████████████████▌                     | 49/100 [05:15<03:40,  4.32s/it]The following generation flags are not valid and may be ignored: ['temperature', 'top_p']. Set `TRANSFORMERS_VERBOSITY=info` for more details.\n",
      " 50%|█████████████████████                     | 50/100 [05:23<04:26,  5.34s/it]The following generation flags are not valid and may be ignored: ['temperature', 'top_p']. Set `TRANSFORMERS_VERBOSITY=info` for more details.\n",
      " 51%|█████████████████████▍                    | 51/100 [05:30<04:56,  6.04s/it]The following generation flags are not valid and may be ignored: ['temperature', 'top_p']. Set `TRANSFORMERS_VERBOSITY=info` for more details.\n"
     ]
    },
    {
     "name": "stdout",
     "output_type": "stream",
     "text": [
      "⚠️ Warning: Possibly bad output. Check content or retrieval.\n"
     ]
    },
    {
     "name": "stderr",
     "output_type": "stream",
     "text": [
      " 52%|█████████████████████▊                    | 52/100 [05:38<05:16,  6.60s/it]The following generation flags are not valid and may be ignored: ['temperature', 'top_p']. Set `TRANSFORMERS_VERBOSITY=info` for more details.\n",
      " 53%|██████████████████████▎                   | 53/100 [05:41<04:09,  5.31s/it]The following generation flags are not valid and may be ignored: ['temperature', 'top_p']. Set `TRANSFORMERS_VERBOSITY=info` for more details.\n",
      " 54%|██████████████████████▋                   | 54/100 [05:48<04:38,  6.05s/it]The following generation flags are not valid and may be ignored: ['temperature', 'top_p']. Set `TRANSFORMERS_VERBOSITY=info` for more details.\n"
     ]
    },
    {
     "name": "stdout",
     "output_type": "stream",
     "text": [
      "⚠️ Warning: Possibly bad output. Check content or retrieval.\n"
     ]
    },
    {
     "name": "stderr",
     "output_type": "stream",
     "text": [
      " 55%|███████████████████████                   | 55/100 [05:50<03:27,  4.61s/it]The following generation flags are not valid and may be ignored: ['temperature', 'top_p']. Set `TRANSFORMERS_VERBOSITY=info` for more details.\n",
      " 56%|███████████████████████▌                  | 56/100 [05:58<04:06,  5.59s/it]The following generation flags are not valid and may be ignored: ['temperature', 'top_p']. Set `TRANSFORMERS_VERBOSITY=info` for more details.\n",
      " 57%|███████████████████████▉                  | 57/100 [06:05<04:26,  6.20s/it]The following generation flags are not valid and may be ignored: ['temperature', 'top_p']. Set `TRANSFORMERS_VERBOSITY=info` for more details.\n",
      " 58%|████████████████████████▎                 | 58/100 [06:13<04:35,  6.56s/it]The following generation flags are not valid and may be ignored: ['temperature', 'top_p']. Set `TRANSFORMERS_VERBOSITY=info` for more details.\n",
      " 59%|████████████████████████▊                 | 59/100 [06:20<04:44,  6.95s/it]The following generation flags are not valid and may be ignored: ['temperature', 'top_p']. Set `TRANSFORMERS_VERBOSITY=info` for more details.\n",
      " 60%|█████████████████████████▏                | 60/100 [06:28<04:44,  7.11s/it]The following generation flags are not valid and may be ignored: ['temperature', 'top_p']. Set `TRANSFORMERS_VERBOSITY=info` for more details.\n",
      " 61%|█████████████████████████▌                | 61/100 [06:30<03:33,  5.47s/it]The following generation flags are not valid and may be ignored: ['temperature', 'top_p']. Set `TRANSFORMERS_VERBOSITY=info` for more details.\n",
      " 62%|██████████████████████████                | 62/100 [06:30<02:36,  4.11s/it]The following generation flags are not valid and may be ignored: ['temperature', 'top_p']. Set `TRANSFORMERS_VERBOSITY=info` for more details.\n",
      " 63%|██████████████████████████▍               | 63/100 [06:31<01:57,  3.18s/it]The following generation flags are not valid and may be ignored: ['temperature', 'top_p']. Set `TRANSFORMERS_VERBOSITY=info` for more details.\n",
      " 64%|██████████████████████████▉               | 64/100 [06:34<01:50,  3.06s/it]The following generation flags are not valid and may be ignored: ['temperature', 'top_p']. Set `TRANSFORMERS_VERBOSITY=info` for more details.\n",
      " 65%|███████████████████████████▎              | 65/100 [06:42<02:34,  4.40s/it]The following generation flags are not valid and may be ignored: ['temperature', 'top_p']. Set `TRANSFORMERS_VERBOSITY=info` for more details.\n",
      " 66%|███████████████████████████▋              | 66/100 [06:43<01:54,  3.36s/it]The following generation flags are not valid and may be ignored: ['temperature', 'top_p']. Set `TRANSFORMERS_VERBOSITY=info` for more details.\n",
      " 67%|████████████████████████████▏             | 67/100 [06:50<02:33,  4.64s/it]The following generation flags are not valid and may be ignored: ['temperature', 'top_p']. Set `TRANSFORMERS_VERBOSITY=info` for more details.\n",
      " 68%|████████████████████████████▌             | 68/100 [06:58<02:57,  5.55s/it]The following generation flags are not valid and may be ignored: ['temperature', 'top_p']. Set `TRANSFORMERS_VERBOSITY=info` for more details.\n",
      " 69%|████████████████████████████▉             | 69/100 [07:00<02:14,  4.34s/it]The following generation flags are not valid and may be ignored: ['temperature', 'top_p']. Set `TRANSFORMERS_VERBOSITY=info` for more details.\n",
      " 70%|█████████████████████████████▍            | 70/100 [07:00<01:38,  3.29s/it]The following generation flags are not valid and may be ignored: ['temperature', 'top_p']. Set `TRANSFORMERS_VERBOSITY=info` for more details.\n"
     ]
    },
    {
     "name": "stdout",
     "output_type": "stream",
     "text": [
      "⚠️ Warning: Possibly bad output. Check content or retrieval.\n"
     ]
    },
    {
     "name": "stderr",
     "output_type": "stream",
     "text": [
      " 71%|█████████████████████████████▊            | 71/100 [07:08<02:13,  4.61s/it]The following generation flags are not valid and may be ignored: ['temperature', 'top_p']. Set `TRANSFORMERS_VERBOSITY=info` for more details.\n",
      " 72%|██████████████████████████████▏           | 72/100 [07:16<02:36,  5.60s/it]The following generation flags are not valid and may be ignored: ['temperature', 'top_p']. Set `TRANSFORMERS_VERBOSITY=info` for more details.\n",
      " 73%|██████████████████████████████▋           | 73/100 [07:25<02:55,  6.51s/it]The following generation flags are not valid and may be ignored: ['temperature', 'top_p']. Set `TRANSFORMERS_VERBOSITY=info` for more details.\n",
      " 74%|███████████████████████████████           | 74/100 [07:33<03:05,  7.13s/it]The following generation flags are not valid and may be ignored: ['temperature', 'top_p']. Set `TRANSFORMERS_VERBOSITY=info` for more details.\n",
      " 75%|███████████████████████████████▌          | 75/100 [07:34<02:12,  5.30s/it]The following generation flags are not valid and may be ignored: ['temperature', 'top_p']. Set `TRANSFORMERS_VERBOSITY=info` for more details.\n",
      " 76%|███████████████████████████████▉          | 76/100 [07:42<02:24,  6.00s/it]The following generation flags are not valid and may be ignored: ['temperature', 'top_p']. Set `TRANSFORMERS_VERBOSITY=info` for more details.\n",
      " 77%|████████████████████████████████▎         | 77/100 [07:49<02:29,  6.49s/it]The following generation flags are not valid and may be ignored: ['temperature', 'top_p']. Set `TRANSFORMERS_VERBOSITY=info` for more details.\n",
      " 78%|████████████████████████████████▊         | 78/100 [07:57<02:29,  6.81s/it]The following generation flags are not valid and may be ignored: ['temperature', 'top_p']. Set `TRANSFORMERS_VERBOSITY=info` for more details.\n",
      " 79%|█████████████████████████████████▏        | 79/100 [08:05<02:30,  7.15s/it]The following generation flags are not valid and may be ignored: ['temperature', 'top_p']. Set `TRANSFORMERS_VERBOSITY=info` for more details.\n",
      " 80%|█████████████████████████████████▌        | 80/100 [08:06<01:45,  5.29s/it]The following generation flags are not valid and may be ignored: ['temperature', 'top_p']. Set `TRANSFORMERS_VERBOSITY=info` for more details.\n",
      " 81%|██████████████████████████████████        | 81/100 [08:14<01:55,  6.05s/it]The following generation flags are not valid and may be ignored: ['temperature', 'top_p']. Set `TRANSFORMERS_VERBOSITY=info` for more details.\n",
      " 82%|██████████████████████████████████▍       | 82/100 [08:15<01:21,  4.55s/it]The following generation flags are not valid and may be ignored: ['temperature', 'top_p']. Set `TRANSFORMERS_VERBOSITY=info` for more details.\n",
      " 83%|██████████████████████████████████▊       | 83/100 [08:23<01:35,  5.61s/it]The following generation flags are not valid and may be ignored: ['temperature', 'top_p']. Set `TRANSFORMERS_VERBOSITY=info` for more details.\n",
      " 84%|███████████████████████████████████▎      | 84/100 [08:31<01:40,  6.25s/it]The following generation flags are not valid and may be ignored: ['temperature', 'top_p']. Set `TRANSFORMERS_VERBOSITY=info` for more details.\n",
      " 85%|███████████████████████████████████▋      | 85/100 [08:33<01:17,  5.15s/it]The following generation flags are not valid and may be ignored: ['temperature', 'top_p']. Set `TRANSFORMERS_VERBOSITY=info` for more details.\n",
      " 86%|████████████████████████████████████      | 86/100 [08:41<01:22,  5.87s/it]The following generation flags are not valid and may be ignored: ['temperature', 'top_p']. Set `TRANSFORMERS_VERBOSITY=info` for more details.\n",
      " 87%|████████████████████████████████████▌     | 87/100 [08:49<01:23,  6.44s/it]The following generation flags are not valid and may be ignored: ['temperature', 'top_p']. Set `TRANSFORMERS_VERBOSITY=info` for more details.\n",
      " 88%|████████████████████████████████████▉     | 88/100 [08:56<01:21,  6.80s/it]The following generation flags are not valid and may be ignored: ['temperature', 'top_p']. Set `TRANSFORMERS_VERBOSITY=info` for more details.\n",
      " 89%|█████████████████████████████████████▍    | 89/100 [08:58<00:56,  5.17s/it]The following generation flags are not valid and may be ignored: ['temperature', 'top_p']. Set `TRANSFORMERS_VERBOSITY=info` for more details.\n",
      " 90%|█████████████████████████████████████▊    | 90/100 [09:05<00:59,  5.93s/it]The following generation flags are not valid and may be ignored: ['temperature', 'top_p']. Set `TRANSFORMERS_VERBOSITY=info` for more details.\n",
      " 91%|██████████████████████████████████████▏   | 91/100 [09:13<00:58,  6.46s/it]The following generation flags are not valid and may be ignored: ['temperature', 'top_p']. Set `TRANSFORMERS_VERBOSITY=info` for more details.\n",
      " 92%|██████████████████████████████████████▋   | 92/100 [09:21<00:55,  6.88s/it]The following generation flags are not valid and may be ignored: ['temperature', 'top_p']. Set `TRANSFORMERS_VERBOSITY=info` for more details.\n",
      " 93%|███████████████████████████████████████   | 93/100 [09:28<00:49,  7.04s/it]The following generation flags are not valid and may be ignored: ['temperature', 'top_p']. Set `TRANSFORMERS_VERBOSITY=info` for more details.\n",
      " 94%|███████████████████████████████████████▍  | 94/100 [09:36<00:43,  7.24s/it]The following generation flags are not valid and may be ignored: ['temperature', 'top_p']. Set `TRANSFORMERS_VERBOSITY=info` for more details.\n",
      " 95%|███████████████████████████████████████▉  | 95/100 [09:43<00:36,  7.32s/it]The following generation flags are not valid and may be ignored: ['temperature', 'top_p']. Set `TRANSFORMERS_VERBOSITY=info` for more details.\n",
      " 96%|████████████████████████████████████████▎ | 96/100 [09:46<00:23,  5.89s/it]The following generation flags are not valid and may be ignored: ['temperature', 'top_p']. Set `TRANSFORMERS_VERBOSITY=info` for more details.\n",
      " 97%|████████████████████████████████████████▋ | 97/100 [09:54<00:19,  6.42s/it]The following generation flags are not valid and may be ignored: ['temperature', 'top_p']. Set `TRANSFORMERS_VERBOSITY=info` for more details.\n",
      " 98%|█████████████████████████████████████████▏| 98/100 [09:55<00:09,  4.81s/it]The following generation flags are not valid and may be ignored: ['temperature', 'top_p']. Set `TRANSFORMERS_VERBOSITY=info` for more details.\n",
      " 99%|█████████████████████████████████████████▌| 99/100 [10:02<00:05,  5.68s/it]The following generation flags are not valid and may be ignored: ['temperature', 'top_p']. Set `TRANSFORMERS_VERBOSITY=info` for more details.\n",
      "100%|█████████████████████████████████████████| 100/100 [10:10<00:00,  6.11s/it]"
     ]
    },
    {
     "name": "stdout",
     "output_type": "stream",
     "text": [
      "\n",
      "📊 Final Evaluation Results:\n",
      "Exact Match (EM): 0.00\n",
      "F1 Score        : 19.67\n",
      "ROUGE-L         : 0.1991\n",
      "BLEU            : 0.0227\n"
     ]
    },
    {
     "name": "stderr",
     "output_type": "stream",
     "text": [
      "\n"
     ]
    }
   ],
   "source": [
    "import json\n",
    "from tqdm import tqdm\n",
    "from evaluate import load\n",
    "\n",
    "# Load QA pairs\n",
    "def load_qa_pairs(path):\n",
    "    with open(path, \"r\", encoding=\"utf-8\") as f:\n",
    "        return [json.loads(line) for line in f]\n",
    "\n",
    "qa_pairs = load_qa_pairs(\"3gpp_qa_100_pairs.jsonl\")\n",
    "\n",
    "# Load metrics\n",
    "squad_metric = load(\"squad\")\n",
    "rouge = load(\"rouge\")\n",
    "bleu = load(\"bleu\")\n",
    "\n",
    "# Store all predictions and references for BLEU batch compute\n",
    "bleu_predictions = []\n",
    "bleu_references = []\n",
    "\n",
    "# Store results\n",
    "results = []\n",
    "\n",
    "for sample in tqdm(qa_pairs):\n",
    "    question = sample[\"question\"]\n",
    "    reference = sample[\"answer\"]\n",
    "\n",
    "    try:\n",
    "        prediction, _ = answer_with_rag_llama(question)\n",
    "    except Exception as e:\n",
    "        print(f\"⚠️ Error on: {question}\\n{e}\")\n",
    "        prediction = \"\"\n",
    "\n",
    "    # SQuAD metric\n",
    "    squad_metric.add(\n",
    "        prediction={\"id\": str(hash(question)), \"prediction_text\": prediction},\n",
    "        reference={\"id\": str(hash(question)), \"answers\": {\"text\": [reference], \"answer_start\": [0]}}\n",
    "    )\n",
    "\n",
    "    # ROUGE\n",
    "    rouge.add(prediction=prediction, reference=reference)\n",
    "\n",
    "    # BLEU \n",
    "    bleu_predictions.append(prediction)\n",
    "    bleu_references.append([reference])  # list of references per prediction\n",
    "\n",
    "    results.append({\n",
    "        \"question\": question,\n",
    "        \"reference\": reference,\n",
    "        \"prediction\": prediction\n",
    "    })\n",
    "\n",
    "# Final scores\n",
    "squad_scores = squad_metric.compute()\n",
    "rouge_scores = rouge.compute()\n",
    "bleu_score = bleu.compute(predictions=bleu_predictions, references=bleu_references)[\"bleu\"]\n",
    "\n",
    "# Display\n",
    "print(\"\\n📊 Final Evaluation Results:\")\n",
    "print(f\"Exact Match (EM): {squad_scores['exact_match']:.2f}\")\n",
    "print(f\"F1 Score        : {squad_scores['f1']:.2f}\")\n",
    "print(f\"ROUGE-L         : {rouge_scores['rougeL']:.4f}\")\n",
    "print(f\"BLEU            : {bleu_score:.4f}\")"
   ]
  },
  {
   "cell_type": "code",
   "execution_count": 8,
   "id": "fa8dbdda-41d1-421c-ad53-6dbb1c98a94a",
   "metadata": {},
   "outputs": [
    {
     "name": "stdout",
     "output_type": "stream",
     "text": [
      "✅ Saved to rag_qa_predictions.csv\n"
     ]
    }
   ],
   "source": [
    "import pandas as pd\n",
    "import os\n",
    "\n",
    "df = pd.DataFrame(results)\n",
    "df.to_csv(\"/mnt/data/P1.csv\", index=False)\n",
    "print(\"✅ Saved to rag_qa_predictions.csv\")"
   ]
  }
 ],
 "metadata": {
  "kernelspec": {
   "display_name": "Python 3 (ipykernel)",
   "language": "python",
   "name": "python3"
  },
  "language_info": {
   "codemirror_mode": {
    "name": "ipython",
    "version": 3
   },
   "file_extension": ".py",
   "mimetype": "text/x-python",
   "name": "python",
   "nbconvert_exporter": "python",
   "pygments_lexer": "ipython3",
   "version": "3.13.4"
  }
 },
 "nbformat": 4,
 "nbformat_minor": 5
}
