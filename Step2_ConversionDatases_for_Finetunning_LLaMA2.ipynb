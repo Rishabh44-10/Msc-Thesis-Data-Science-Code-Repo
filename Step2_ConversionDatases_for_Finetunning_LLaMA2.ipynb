{
 "cells": [
  {
   "cell_type": "markdown",
   "id": "9d7df925-f252-411f-ba38-ab7605d6be66",
   "metadata": {},
   "source": [
    "# Preprocessing Code for TeleQnA, for the use of Fine-Tunning of LLaMA-2"
   ]
  },
  {
   "cell_type": "code",
   "execution_count": 11,
   "id": "35a3d78f-220f-47fc-994a-04250e4b7d75",
   "metadata": {},
   "outputs": [
    {
     "name": "stdout",
     "output_type": "stream",
     "text": [
      "✅ Saved 10000 examples with explanations to C:\\Users\\Rishabh\\OneDrive\\Desktop\\THESIS\\Fine Tunning Dataset\\teleqna_llama2_with_explanations.jsonl\n"
     ]
    }
   ],
   "source": [
    "import json\n",
    "\n",
    "input_path = r\"C:\\Users\\Rishabh\\OneDrive\\Desktop\\THESIS\\Dataset\\TeleQnA Dataset\\TeleQnA.json\"\n",
    "output_path = r\"C:\\Users\\Rishabh\\OneDrive\\Desktop\\THESIS\\Fine Tunning Dataset\\teleqna_llama2_with_explanations.jsonl\"\n",
    "\n",
    "processed_data = []\n",
    "\n",
    "# Load input JSON\n",
    "with open(input_path, \"r\", encoding=\"utf-8\") as f:\n",
    "    data = json.load(f)\n",
    "\n",
    "# Convert each question entry\n",
    "for q_id, entry in data.items():\n",
    "    question = entry.get(\"question\", \"\").strip()\n",
    "    options = [\n",
    "        entry.get(\"option 1\", \"\").strip(),\n",
    "        entry.get(\"option 2\", \"\").strip(),\n",
    "        entry.get(\"option 3\", \"\").strip(),\n",
    "        entry.get(\"option 4\", \"\").strip()\n",
    "    ]\n",
    "    answer = entry.get(\"answer\", \"\").strip()\n",
    "    explanation = entry.get(\"explanation\", \"\").strip()\n",
    "\n",
    "    if not question or not answer:\n",
    "        continue\n",
    "\n",
    "    options = [opt for opt in options if opt]\n",
    "\n",
    "    # Construct prompt\n",
    "    mcq_text = f\"{question}\\n\"\n",
    "    for i, opt in enumerate(options, start=1):\n",
    "        mcq_text += f\"Option {i}: {opt}\\n\"\n",
    "    mcq_text = mcq_text.strip()\n",
    "\n",
    "    # Format assistant response\n",
    "    response = f\"{answer}\"\n",
    "    if explanation:\n",
    "        response += f\"\\n\\nExplanation: {explanation}\"\n",
    "\n",
    "    # LLaMA-2 format\n",
    "    full_prompt = (\n",
    "        \"<s>[INST] <<SYS>>\\n\"\n",
    "        \"You are a helpful assistant specialized in telecommunications.\\n\"\n",
    "        \"[/SYS]\\n\\n\"\n",
    "        f\"{mcq_text} [/INST]\\n\"\n",
    "        f\"{response}</s>\"\n",
    "    )\n",
    "\n",
    "    processed_data.append({\"text\": full_prompt})\n",
    "\n",
    "# Save as JSONL\n",
    "with open(output_path, \"w\", encoding=\"utf-8\") as f:\n",
    "    for item in processed_data:\n",
    "        f.write(json.dumps(item, ensure_ascii=False) + \"\\n\")\n",
    "\n",
    "print(f\" Saved {len(processed_data)} examples with explanations to {output_path}\")"
   ]
  },
  {
   "cell_type": "markdown",
   "id": "69f3eaac-f967-4ef8-9d5d-bb7f676a81f2",
   "metadata": {},
   "source": [
    "# Preprocessing Code for Tabular TeleQuAD, for the use of Fine Tunning of LLaMA-2"
   ]
  },
  {
   "cell_type": "code",
   "execution_count": 15,
   "id": "ab405b79-0205-4bcc-8ffb-bea345469fec",
   "metadata": {},
   "outputs": [
    {
     "name": "stdout",
     "output_type": "stream",
     "text": [
      "✅ Successfully saved 278 QA examples to C:\\Users\\Rishabh\\OneDrive\\Desktop\\THESIS\\Fine Tunning Dataset\\telequad_tabular_llama2_preprocessed.jsonl\n"
     ]
    }
   ],
   "source": [
    "from pathlib import Path\n",
    "import json\n",
    "\n",
    "# Paths\n",
    "input_path = Path(r\"C:\\Users\\Rishabh\\OneDrive\\Desktop\\THESIS\\Dataset\\TeleQuAD\\TeleQuAD-v1-full-Tabular.json\")\n",
    "output_path = Path(r\"C:\\Users\\Rishabh\\OneDrive\\Desktop\\THESIS\\Fine Tunning Dataset\\telequad_tabular_llama2_preprocessed.jsonl\")\n",
    "\n",
    "# Load top-level JSON object\n",
    "with input_path.open(\"r\", encoding=\"utf-8\") as f:\n",
    "    raw = json.load(f)\n",
    "\n",
    "converted = []\n",
    "for block in raw.get(\"data\", []):\n",
    "    for q in block.get(\"questions\", []):\n",
    "        context = q.get(\"context\", \"\").strip()\n",
    "        question = q.get(\"question\", \"\").strip()\n",
    "        answer = q.get(\"answer\", \"\").strip()\n",
    "\n",
    "        if not context or not question or not answer:\n",
    "            continue\n",
    "\n",
    "        # Format prompt\n",
    "        user_prompt = f\"### Task: extractive_qa\\n### Context:\\n{context}\\n### Question:\\n{question}\"\n",
    "        response = answer\n",
    "\n",
    "        # LLaMA-2 format\n",
    "        full_prompt = (\n",
    "            \"<s>[INST] <<SYS>>\\n\"\n",
    "            \"You are a helpful assistant specialized in telecommunications.\\n\"\n",
    "            \"[/SYS]\\n\\n\"\n",
    "            f\"{user_prompt} [/INST]\\n\"\n",
    "            f\"{response}</s>\"\n",
    "        )\n",
    "\n",
    "        converted.append({\"text\": full_prompt})\n",
    "\n",
    "# Save as JSONL\n",
    "with output_path.open(\"w\", encoding=\"utf-8\") as f:\n",
    "    for item in converted:\n",
    "        f.write(json.dumps(item, ensure_ascii=False) + \"\\n\")\n",
    "\n",
    "print(f\" Successfully saved {len(converted)} QA examples to {output_path}\")"
   ]
  },
  {
   "cell_type": "markdown",
   "id": "bce44e6f-eb19-4322-9df9-915b4eb5d7dc",
   "metadata": {},
   "source": [
    "# Preprocessing Code for TeleQuAD-v4-full.json"
   ]
  },
  {
   "cell_type": "code",
   "execution_count": 16,
   "id": "c525279b-ed1a-41c7-8197-60994160d1d8",
   "metadata": {},
   "outputs": [
    {
     "name": "stdout",
     "output_type": "stream",
     "text": [
      "✅ Saved 4262 entries to C:\\Users\\Rishabh\\OneDrive\\Desktop\\THESIS\\Fine Tunning Dataset\\telequad_v4_llama2_preprocessed.jsonl\n"
     ]
    }
   ],
   "source": [
    "from pathlib import Path\n",
    "import json\n",
    "\n",
    "# Paths\n",
    "input_path = Path(r\"C:\\Users\\Rishabh\\OneDrive\\Desktop\\THESIS\\Dataset\\TeleQuAD\\TeleQuAD-v4-full.json\")\n",
    "output_path = Path(r\"C:\\Users\\Rishabh\\OneDrive\\Desktop\\THESIS\\Fine Tunning Dataset\\telequad_v4_llama2_preprocessed.jsonl\")\n",
    "\n",
    "# Load file\n",
    "with input_path.open(\"r\", encoding=\"utf-8\") as f:\n",
    "    raw = json.load(f)\n",
    "\n",
    "converted = []\n",
    "\n",
    "for doc in raw[\"data\"]:\n",
    "    for para in doc.get(\"paragraphs\", []):\n",
    "        context = para.get(\"context\", \"\").strip()\n",
    "        if not context:\n",
    "            continue \n",
    "\n",
    "        for qa in para.get(\"qas\", []):\n",
    "            if qa.get(\"is_impossible\", False):\n",
    "                continue\n",
    "\n",
    "            question = qa.get(\"question\", \"\").strip()\n",
    "            answer_list = qa.get(\"answers\", [])\n",
    "            if not question or not answer_list:\n",
    "                continue\n",
    "\n",
    "            answer = answer_list[0].get(\"text\", \"\").strip()\n",
    "            if not answer:\n",
    "                continue\n",
    "\n",
    "            # Format instruction prompt\n",
    "            user_prompt = f\"### Task: extractive_qa\\n### Context:\\n{context}\\n### Question:\\n{question}\"\n",
    "            response = answer\n",
    "\n",
    "            full_prompt = (\n",
    "                \"<s>[INST] <<SYS>>\\n\"\n",
    "                \"You are a helpful assistant specialized in telecommunications.\\n\"\n",
    "                \"[/SYS]\\n\\n\"\n",
    "                f\"{user_prompt} [/INST]\\n\"\n",
    "                f\"{response}</s>\"\n",
    "            )\n",
    "\n",
    "            converted.append({\"text\": full_prompt})\n",
    "\n",
    "# Save to JSONL\n",
    "with output_path.open(\"w\", encoding=\"utf-8\") as f:\n",
    "    for item in converted:\n",
    "        f.write(json.dumps(item, ensure_ascii=False) + \"\\n\")\n",
    "\n",
    "print(f\" Saved {len(converted)} entries to {output_path}\")"
   ]
  },
  {
   "cell_type": "markdown",
   "id": "fd451944-2cf1-46a9-866b-1486c296d92b",
   "metadata": {},
   "source": [
    "# Preprocessing Code for 3GPP QA JSONL"
   ]
  },
  {
   "cell_type": "code",
   "execution_count": 2,
   "id": "893c4cf9-73cd-4d27-8df9-2522fdfead48",
   "metadata": {},
   "outputs": [
    {
     "name": "stdout",
     "output_type": "stream",
     "text": [
      "✅ Saved 218347 entries to C:\\Users\\Rishabh\\OneDrive\\Desktop\\THESIS\\Fine Tunning Dataset\\3gpp_testing.jsonl\n"
     ]
    }
   ],
   "source": [
    "from pathlib import Path\n",
    "import json\n",
    "\n",
    "input_path = Path(r\"C:\\Users\\Rishabh\\OneDrive\\Desktop\\First_RUN_final_3gpp_qa_filtered.jsonl\")\n",
    "output_path = Path(r\"C:\\Users\\Rishabh\\OneDrive\\Desktop\\THESIS\\Fine Tunning Dataset\\3gpp_testing.jsonl\")\n",
    "\n",
    "converted = []\n",
    "\n",
    "with input_path.open(\"r\", encoding=\"utf-8\") as f:\n",
    "    for line in f:\n",
    "        item = json.loads(line)\n",
    "\n",
    "        raw_input = item.get(\"input\", \"\").strip()\n",
    "        answer = item.get(\"output\", \"\").strip()\n",
    "\n",
    "        if not raw_input or not answer:\n",
    "            continue \n",
    "\n",
    "        full_prompt = (\n",
    "            \"<s>[INST] <<SYS>>\\n\"\n",
    "            \"You are a helpful assistant specialized in telecommunications.\\n\"\n",
    "            \"[/SYS]\\n\\n\"\n",
    "            f\"{raw_input} [/INST]\\n\"\n",
    "            f\"{answer}</s>\"\n",
    "        )\n",
    "\n",
    "        converted.append({\"text\": full_prompt})\n",
    "\n",
    "# Save as JSONL\n",
    "with output_path.open(\"w\", encoding=\"utf-8\") as f:\n",
    "    for item in converted:\n",
    "        f.write(json.dumps(item, ensure_ascii=False) + \"\\n\")\n",
    "\n",
    "print(f\" Saved {len(converted)} entries to {output_path}\")"
   ]
  }
 ],
 "metadata": {
  "kernelspec": {
   "display_name": "Python 3 (ipykernel)",
   "language": "python",
   "name": "python3"
  },
  "language_info": {
   "codemirror_mode": {
    "name": "ipython",
    "version": 3
   },
   "file_extension": ".py",
   "mimetype": "text/x-python",
   "name": "python",
   "nbconvert_exporter": "python",
   "pygments_lexer": "ipython3",
   "version": "3.13.4"
  }
 },
 "nbformat": 4,
 "nbformat_minor": 5
}
